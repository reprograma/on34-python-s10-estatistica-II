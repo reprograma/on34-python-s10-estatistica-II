{
 "cells": [
  {
   "cell_type": "markdown",
   "metadata": {},
   "source": [
    "### Exercício 1: \n",
    "Um nutricionista quer testar se a ingestão diária média de calorias de um grupo de 30 pessoas é diferente de 2000 calorias. Os dados das calorias ingeridas são fornecidos abaixo. Realize o teste de hipóteses usando um nível de significância de 0,05.\n",
    "\n",
    "Dados: [1900, 2100, 2050, 1980, 1950, 2100, 2000, 2150, 2200, 1850, 1990, 1950, 2050, 2080, 2100, 1900, 1950, 2050, 2150, 2000, 2200, 1900, 2100, 2000, 2150, 1850, 1990, 1950, 2050, 2080]"
   ]
  },
  {
   "cell_type": "code",
   "execution_count": 4,
   "metadata": {},
   "outputs": [
    {
     "name": "stdout",
     "output_type": "stream",
     "text": [
      "O teste estatístico é igual: 1.44\n",
      "O valor p é igual a: 0.16\n",
      "aceitamos a hipotese nula\n"
     ]
    }
   ],
   "source": [
    "#test T por ser uma comparação de médias\n",
    "\n",
    "from scipy.stats import ttest_1samp\n",
    "#teste de hipótese\n",
    "#H0: as médias = 2000\n",
    "#H1: as médias != 2000\n",
    "\n",
    "dados = [1900, 2100, 2050, 1980, 1950, 2100, 2000, 2150, 2200, 1850, 1990, 1950, 2050, 2080, 2100, 1900, 1950, 2050, 2150, 2000, 2200, 1900, 2100, 2000, 2150, 1850, 1990, 1950, 2050, 2080]\n",
    "\n",
    "t_estatistico, p_valor = ttest_1samp(dados, 2000)\n",
    "print(f\"O teste estatístico é igual: {t_estatistico:.2f}\")\n",
    "print(f\"O valor p é igual a: {p_valor:.2f}\")\n",
    "\n",
    "confianca = 0.95\n",
    "significancia = 1 - confianca\n",
    "if p_valor < significancia:\n",
    "  print(\"Rejeitamos a hipótese nula\")\n",
    "else:\n",
    "  print(\"aceitamos a hipotese nula\")"
   ]
  },
  {
   "cell_type": "markdown",
   "metadata": {},
   "source": [
    "### Exercício 2:\n",
    "\n",
    "Um pesquisador deseja verificar se há uma diferença significativa entre as notas de alunos de duas turmas diferentes após um novo método de ensino. As notas das duas turmas são:\n",
    "\n",
    "Turma A: [85, 78, 90, 88, 76, 95, 89, 84]\n",
    "Turma B: [82, 75, 85, 80, 79, 88, 83, 77]\n",
    "\n",
    "Realize o teste de hipóteses para comparar as médias das duas turmas usando um nível de significância de 0,05."
   ]
  },
  {
   "cell_type": "code",
   "execution_count": 2,
   "metadata": {},
   "outputs": [
    {
     "name": "stdout",
     "output_type": "stream",
     "text": [
      "O teste estatístico é igual: 1.67\n",
      "O valor p é igual a: 0.12\n",
      "aceitamos a hipotese nula\n"
     ]
    }
   ],
   "source": [
    "#test T por ser uma comparação de médias\n",
    "\n",
    "from scipy.stats import ttest_ind\n",
    "#teste de hipótese\n",
    "#H0: não há diferença entre as médias\n",
    "#H1: há diferença entre as médias\n",
    "\n",
    "#Turma A: [85, 78, 90, 88, 76, 95, 89, 84]\n",
    "#Turma B: [82, 75, 85, 80, 79, 88, 83, 77]\n",
    "\n",
    "\n",
    "a = [85, 78, 90, 88, 76, 95, 89, 84]\n",
    "\n",
    "b = [82, 75, 85, 80, 79, 88, 83, 77]\n",
    "\n",
    "\n",
    "t_estatistico, p_valor = ttest_ind(a,b)\n",
    "print(f\"O teste estatístico é igual: {t_estatistico:.2f}\")\n",
    "print(f\"O valor p é igual a: {p_valor:.2f}\")\n",
    "\n",
    "confianca = 0.95\n",
    "significancia = 1 - confianca\n",
    "if p_valor < significancia:\n",
    "  print(\"Rejeitamos a hipótese nula\")\n",
    "else:\n",
    "  print(\"aceitamos a hipotese nula\")\n"
   ]
  },
  {
   "cell_type": "markdown",
   "metadata": {},
   "source": [
    "### Exercício 3:\n",
    "\n",
    "Uma empresa testou a eficácia de um novo software em dois períodos de tempo. Os tempos (em minutos) para concluir uma tarefa antes e depois do uso do software são registrados abaixo. Determine se houve uma melhoria significativa no tempo de conclusão da tarefa.\n",
    "\n",
    "Antes: [30, 28, 35, 33, 40, 29, 32, 36]\n",
    "Depois: [25, 22, 30, 28, 35, 27, 30, 31]"
   ]
  },
  {
   "cell_type": "code",
   "execution_count": 3,
   "metadata": {},
   "outputs": [
    {
     "name": "stdout",
     "output_type": "stream",
     "text": [
      "O teste estatístico é igual: 8.22\n",
      "O valor p é igual a: 0.0000767985\n",
      "Rejeitamos a hipótese nula\n"
     ]
    }
   ],
   "source": [
    "from scipy.stats import ttest_rel\n",
    "#teste de hipótese\n",
    "#H0: há diferença entre antes e depois\n",
    "#H1: há diferença entre entre antes e depois\n",
    "\n",
    "#Antes: [30, 28, 35, 33, 40, 29, 32, 36]\n",
    "#Depois: [25, 22, 30, 28, 35, 27, 30, 31]\n",
    "\n",
    "a = [30, 28, 35, 33, 40, 29, 32, 36]\n",
    "d = [25, 22, 30, 28, 35, 27, 30, 31]\n",
    "\n",
    "t_estatistico, p_valor = ttest_rel(a,d)\n",
    "print(f\"O teste estatístico é igual: {t_estatistico:.2f}\")\n",
    "print(f\"O valor p é igual a: {p_valor:.10f}\")\n",
    "\n",
    "confianca = 0.95\n",
    "significancia = 1 - confianca\n",
    "if p_valor < significancia:\n",
    "  print(\"Rejeitamos a hipótese nula\")\n",
    "else:\n",
    "  print(\"aceitamos a hipotese nula\")"
   ]
  },
  {
   "cell_type": "markdown",
   "metadata": {},
   "source": [
    "### Exercício 4:\n",
    "\n",
    "Uma pesquisa foi realizada para verificar a preferência de 100 pessoas por dois tipos de bebidas, A e B, em duas cidades diferentes, X e Y. A tabela de contingência a seguir mostra os resultados:\n",
    "\n",
    "Cidade X\tCidade Y\n",
    "Bebida A\t30\t40\n",
    "Bebida B\t20\t10\n",
    "\n",
    "Verifique se há uma relação significativa entre a cidade e a preferência pela bebida."
   ]
  },
  {
   "cell_type": "code",
   "execution_count": 6,
   "metadata": {},
   "outputs": [
    {
     "name": "stdout",
     "output_type": "stream",
     "text": [
      "O teste estatístico é igual: 1.44\n",
      "O valor p é igual a: 0.0495\n",
      "Rejeitamos a hipótese nula\n"
     ]
    }
   ],
   "source": [
    "import numpy as np\n",
    "from scipy.stats import chi2_contingency\n",
    "dados = np.array([[30, 40],[20, 10]]) \n",
    "\n",
    "# H0: Não há relação \n",
    "# H1: Há a relação\n",
    "estatistica, p_valor, grau_de_liberdade, matriz_frequencia = chi2_contingency(dados)\n",
    "print(f\"O teste estatístico é igual: {t_estatistico:.2f}\")\n",
    "print(f\"O valor p é igual a: {p_valor:.4f}\")\n",
    "\n",
    "confianca = 0.95\n",
    "significancia = 1 - confianca\n",
    "if p_valor < significancia:\n",
    "  print(\"Rejeitamos a hipótese nula\")\n",
    "else:\n",
    "  print(\"aceitamos a hipotese nula\")"
   ]
  },
  {
   "cell_type": "markdown",
   "metadata": {},
   "source": [
    "### Exercício 5:\n",
    "\n",
    "Um pesquisador deseja testar se três diferentes tipos de fertilizantes têm um efeito significativo no crescimento de plantas. Os crescimentos das plantas (em cm) para cada fertilizante são dados abaixo:\n",
    "\n",
    "Fertilizante A: [20, 22, 19, 21, 20]\n",
    "Fertilizante B: [18, 20, 17, 19, 18]\n",
    "Fertilizante C: [25, 27, 26, 28, 26]\n",
    "Realize uma ANOVA de uma via para verificar se há uma diferença significativa entre os grupos."
   ]
  },
  {
   "cell_type": "code",
   "execution_count": 5,
   "metadata": {},
   "outputs": [
    {
     "name": "stdout",
     "output_type": "stream",
     "text": [
      "O teste estatístico é igual: 1.440678\n",
      "O valor p é igual a: 0.0000003169\n",
      "Rejeitamos a hipótese nula\n"
     ]
    }
   ],
   "source": [
    "from scipy.stats import f_oneway\n",
    "\n",
    "fertilizante_a = [20, 22, 19, 21, 20]\n",
    "fertilizante_b = [18, 20, 17, 19, 18]\n",
    "fertilizante_c = [25, 27, 26, 28, 26]\n",
    "\n",
    "#H0: as medias de crescimento dos fertilizantes são iguais.\n",
    "#H1: pelo menos uma média de crescimento dos fertilizantes é diferente.\n",
    "\n",
    "estatistica, p_valor = f_oneway(fertilizante_a, fertilizante_b, fertilizante_c)\n",
    "print(f\"O teste estatístico é igual: {t_estatistico:4f}\")\n",
    "print(f\"O valor p é igual a: {p_valor:.10f}\")\n",
    "\n",
    "confianca = 0.95\n",
    "significancia = 1 - confianca\n",
    "if p_valor < significancia:\n",
    "  print(\"Rejeitamos a hipótese nula\")\n",
    "else:\n",
    "  print(\"aceitamos a hipotese nula\")"
   ]
  },
  {
   "cell_type": "markdown",
   "metadata": {},
   "source": [
    "# Extras\n",
    "\n",
    "### Exercício 1: \n",
    "Um estudo está sendo realizado para comparar o efeito de três métodos diferentes de estudo na performance dos alunos em um exame. As pontuações dos alunos são registradas para cada método:\n",
    "\n",
    "Método A: [85, 87, 90, 86, 88]\n",
    "Método B: [80, 82, 78, 81, 79]\n",
    "Método C: [92, 91, 93, 89, 94]\n",
    "Use ANOVA de uma via para determinar se existe uma diferença significativa nas pontuações dos alunos entre os três métodos."
   ]
  },
  {
   "cell_type": "code",
   "execution_count": 7,
   "metadata": {},
   "outputs": [
    {
     "name": "stdout",
     "output_type": "stream",
     "text": [
      "O teste estatístico é igual: 1.440678\n",
      "O valor p é igual a: 0.0000010414\n",
      "Rejeitamos a hipótese nula\n"
     ]
    }
   ],
   "source": [
    "from scipy.stats import f_oneway\n",
    "\n",
    "metodo_a = [85, 87, 90, 86, 88]\n",
    "metodo_b =[80, 82, 78, 81, 79]\n",
    "metodo_c = [92, 91, 93, 89, 94]\n",
    "\n",
    "#H0: as medias dos métodos são iguais.\n",
    "#H1: pelo menos uma média dos métodos é diferente.\n",
    "\n",
    "estatistica, p_valor = f_oneway(metodo_a, metodo_b, metodo_c)\n",
    "print(f\"O teste estatístico é igual: {t_estatistico:4f}\")\n",
    "print(f\"O valor p é igual a: {p_valor:.10f}\")\n",
    "\n",
    "confianca = 0.95\n",
    "significancia = 1 - confianca\n",
    "if p_valor < significancia:\n",
    "  print(\"Rejeitamos a hipótese nula\")\n",
    "else:\n",
    "  print(\"aceitamos a hipotese nula\")"
   ]
  },
  {
   "cell_type": "markdown",
   "metadata": {},
   "source": [
    "### Exercício 2: \n",
    "\n",
    "Uma empresa deseja realizar uma pesquisa de satisfação com seus clientes. A população de clientes é dividida em três categorias: Regular, Premium e VIP. A empresa quer garantir que cada categoria seja representada proporcionalmente na amostra. A população total é de 10.000 clientes, sendo 5.000 regulares, 3.000 premium, e 2.000 VIP. Se a amostra total deve ser de 500 clientes, quantos clientes de cada categoria devem ser incluídos na amostra?"
   ]
  },
  {
   "cell_type": "code",
   "execution_count": 6,
   "metadata": {},
   "outputs": [],
   "source": [
    "import random\n",
    "populacao = {\n",
    "  'regular': [list(range(1,5001))],\n",
    "  'premium': [list(range(1,3001))],\n",
    "  'vip': [list(range(1,2001))]\n",
    "}"
   ]
  },
  {
   "cell_type": "markdown",
   "metadata": {},
   "source": [
    "### Exercício 3: \n",
    "\n",
    "Uma empresa registrou o tempo (em horas) que seus funcionários gastam em atividades não relacionadas ao trabalho durante uma semana. Os tempos registrados foram: [1.5, 2.0, 1.0, 2.5, 3.0, 2.0, 1.5, 2.5, 3.5, 4.0]. Calcule o desvio padrão desses tempos."
   ]
  },
  {
   "cell_type": "code",
   "execution_count": 9,
   "metadata": {},
   "outputs": [
    {
     "name": "stdout",
     "output_type": "stream",
     "text": [
      "O desvio padrão é: 0.896\n"
     ]
    }
   ],
   "source": [
    "#desvio padrão\n",
    "import math\n",
    "\n",
    "dados = [1.5, 2.0, 1.0, 2.5, 3.0, 2.0, 1.5, 2.5, 3.5, 4.0]\n",
    "\n",
    "soma = sum(dados)\n",
    "quantidade = len(dados)\n",
    "media =  soma /quantidade\n",
    "\n",
    "soma_quadrados_dif = sum((x - media)** 2 for x in dados)\n",
    "\n",
    "variancia = soma_quadrados_dif / len(dados)\n",
    "\n",
    "desvio_padrao = math.sqrt(variancia)\n",
    "\n",
    "print(f\"O desvio padrão é: {desvio_padrao:.3f}\")\n"
   ]
  }
 ],
 "metadata": {
  "kernelspec": {
   "display_name": "Python 3",
   "language": "python",
   "name": "python3"
  },
  "language_info": {
   "codemirror_mode": {
    "name": "ipython",
    "version": 3
   },
   "file_extension": ".py",
   "mimetype": "text/x-python",
   "name": "python",
   "nbconvert_exporter": "python",
   "pygments_lexer": "ipython3",
   "version": "3.12.4"
  }
 },
 "nbformat": 4,
 "nbformat_minor": 2
}
