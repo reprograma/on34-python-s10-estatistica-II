{
  "nbformat": 4,
  "nbformat_minor": 0,
  "metadata": {
    "colab": {
      "provenance": [],
      "authorship_tag": "ABX9TyNXsdaCx4xSJljmt3Zrmf0k",
      "include_colab_link": true
    },
    "kernelspec": {
      "name": "python3",
      "display_name": "Python 3"
    },
    "language_info": {
      "name": "python"
    }
  },
  "cells": [
    {
      "cell_type": "markdown",
      "metadata": {
        "id": "view-in-github",
        "colab_type": "text"
      },
      "source": [
        "<a href=\"https://colab.research.google.com/github/Polliferraz/on34-python-s10-estatistica-II/blob/main/S10_Polli.ipynb\" target=\"_parent\"><img src=\"https://colab.research.google.com/assets/colab-badge.svg\" alt=\"Open In Colab\"/></a>"
      ]
    },
    {
      "cell_type": "markdown",
      "source": [
        "####Exercício 1:\n",
        "Um nutricionista quer testar se a ingestão diária média de calorias de um grupo de 30 pessoas é diferente de 2000 calorias. Os dados das calorias ingeridas são fornecidos abaixo. Realize o teste de hipóteses usando um nível de significância de 0,05.\n",
        "\n",
        "Dados: [1900, 2100, 2050, 1980, 1950, 2100, 2000, 2150, 2200, 1850, 1990, 1950, 2050, 2080, 2100, 1900, 1950, 2050, 2150, 2000, 2200, 1900, 2100, 2000, 2150, 1850, 1990, 1950, 2050, 2080]\n",
        "\n"
      ],
      "metadata": {
        "id": "20SbS7cMH9yR"
      }
    },
    {
      "cell_type": "code",
      "execution_count": null,
      "metadata": {
        "colab": {
          "base_uri": "https://localhost:8080/"
        },
        "id": "snUPLnZSH4qw",
        "outputId": "eb66a08d-c8e5-43e8-f783-9ac09e2c9b2d"
      },
      "outputs": [
        {
          "output_type": "stream",
          "name": "stdout",
          "text": [
            "Estatística t é 1.440678442696004\n",
            "Valor p é 0.16038600691798435\n"
          ]
        }
      ],
      "source": [
        "\n",
        "# h0: A ingestão média diária é igual a 2000 calorias.\n",
        "# h1: A ingestão média diária é diferente de 2000 calorias.\n",
        "\n",
        "# Nível de confiança = '95%'\n",
        "# Nível de significância = '5%'\n",
        "'''\n",
        "Test t: Aplicado quando o desvio padrão populacional não é conhecido e, assim, é\n",
        "utilizado o desvio padrão amostral.\n",
        "Função: ttest_1samp(): Para comparar a média de uma amostra com um valor de referência.\n",
        "parâmetros empregados: amostra, valor de referência.\n",
        "\n",
        "ttest_1samp(amostra, valor de referência)\n",
        "'''\n",
        "#importar\n",
        "from scipy.stats import ttest_1samp\n",
        "#dados\n",
        "calorias =  [1900, 2100, 2050, 1980, 1950, 2100, 2000, 2150, 2200, 1850,\n",
        "             1990, 1950, 2050, 2080, 2100, 1900, 1950, 2050, 2150, 2000,\n",
        "             2200, 1900, 2100, 2000, 2150, 1850, 1990, 1950, 2050, 2080]\n",
        "\n",
        "t_estatistico, p_valor = ttest_1samp(calorias, 2000)\n",
        "\n",
        "print(f\"Estatística t é {t_estatistico}\")\n",
        "print(f\"Valor p é {p_valor}\")\n",
        "\n"
      ]
    },
    {
      "cell_type": "markdown",
      "source": [
        "#####Resposta\n",
        "O valor p (0.1603) é maior que o nível de significância estabelecido de 0.05. Ouseja, a partir dessa amostra, não há evidência suficiente para rejeitar a hipótese nula e concluir que a média da população é diferente de 2000 calorias."
      ],
      "metadata": {
        "id": "R0KrV5YfX55Q"
      }
    },
    {
      "cell_type": "markdown",
      "source": [
        "####Exercício 2:\n",
        "Um pesquisador deseja verificar se há uma diferença significativa entre as notas de alunos de duas turmas diferentes após um novo método de ensino. As notas das duas turmas são:\n",
        "\n",
        "Turma A: [85, 78, 90, 88, 76, 95, 89, 84] Turma B: [82, 75, 85, 80, 79, 88, 83, 77]\n",
        "\n",
        "Realize o teste de hipóteses para comparar as médias das duas turmas usando um nível de significância de 0,05.\n",
        "\n"
      ],
      "metadata": {
        "id": "zEsIwPHAILZb"
      }
    },
    {
      "cell_type": "code",
      "source": [
        "\n",
        "# h0: As notas das Turmas A e B são iguais.\n",
        "# h1: As notas das Turmas A e B são diferentes.\n",
        "\n",
        "# Nível de confiança = '95%'\n",
        "# Nível de significância = '5%'\n",
        "'''\n",
        "Função: ttest_ind(): Para comparar as médias de duas amostras independentes.\n",
        "parâmetros empregados: amostra1, amostra2.\n",
        "'''\n",
        "#importar\n",
        "from scipy.stats import ttest_ind\n",
        "\n",
        "#dados\n",
        "turmaA = [85, 78, 90, 88, 76, 95, 89, 84]\n",
        "turmaB = [82, 75, 85, 80, 79, 88, 83, 77]\n",
        "\n",
        "test_ind, p_valor = ttest_ind(turmaA, turmaB)\n",
        "\n",
        "print(f\"Estatística t é {test_ind}\")\n",
        "print(f\"Valor p é {p_valor}\")\n",
        "\n"
      ],
      "metadata": {
        "colab": {
          "base_uri": "https://localhost:8080/"
        },
        "id": "CoM2vdaXVa5p",
        "outputId": "9824bba3-38a9-4f29-8389-bdb9752e38f4"
      },
      "execution_count": null,
      "outputs": [
        {
          "output_type": "stream",
          "name": "stdout",
          "text": [
            "Estatística t é 1.6738367490980877\n",
            "Valor p é 0.11634870792349129\n"
          ]
        }
      ]
    },
    {
      "cell_type": "markdown",
      "source": [
        "#####Resposta\n",
        "O valor p (0.116) é maior que o nível de significância estabelecido de 0.05. Ou seja, não há evidências suficiente para rejeitar a hipótese nula. Logo as notas das Turmas A e B não apresentam diferença significativa."
      ],
      "metadata": {
        "id": "xQ4nb7tod9uT"
      }
    },
    {
      "cell_type": "markdown",
      "source": [
        "####Exercício 3:\n",
        "Uma empresa testou a eficácia de um novo software em dois períodos de tempo. Os tempos (em minutos) para concluir uma tarefa antes e depois do uso do software são registrados abaixo. Determine se houve uma melhoria significativa no tempo de conclusão da tarefa.\n",
        "\n",
        "Antes: [30, 28, 35, 33, 40, 29, 32, 36] Depois: [25, 22, 30, 28, 35, 27, 30, 31]\n",
        "\n"
      ],
      "metadata": {
        "id": "6o_sbZk0VY5E"
      }
    },
    {
      "cell_type": "code",
      "source": [
        "# h0: tempo médio da execução da tarefa antes e depois do software é igual.\n",
        "# h1: tempo médio da execução da tarefa antes e depois do software não é igual.\n",
        "\n",
        "# Nível de confiança = '95%'\n",
        "# Nível de significância = '5%'\n",
        "'''\n",
        "Função: ttest_rel(): Para comparar as médias de duas amostras dependentes (pareadas).\n",
        "parâmetros empregados: antes, adepois.\n",
        "'''\n",
        "#importar\n",
        "from scipy.stats import ttest_rel\n",
        "\n",
        "#dados\n",
        "antes = [30, 28, 35, 33, 40, 29, 32, 36]\n",
        "depois = [25, 22, 30, 28, 35, 27, 30, 31]\n",
        "\n",
        "test_rel, p_valor = ttest_rel(antes, depois)\n",
        "\n",
        "print(f\"Estatística t é {test_rel}\")\n",
        "print(f\"Valor p é {p_valor}\")\n"
      ],
      "metadata": {
        "colab": {
          "base_uri": "https://localhost:8080/"
        },
        "id": "zSe7SaIifbzi",
        "outputId": "a0083bf9-8406-47e4-9837-09dcdea84f91"
      },
      "execution_count": null,
      "outputs": [
        {
          "output_type": "stream",
          "name": "stdout",
          "text": [
            "Estatística t é 8.217036268592837\n",
            "Valor p é 7.679851175528595e-05\n"
          ]
        }
      ]
    },
    {
      "cell_type": "markdown",
      "source": [
        "#####Resposta\n",
        "\n",
        "O valor p (7.679851175528595e-05) é uma notação científica, logo menor que o nível de significância estabelecido de 0.05. Sendo assim, há evidências suficiente para rejeitar a hipótese nula. O tempo médio da execução da tarefa antes e depois do software não é igual."
      ],
      "metadata": {
        "id": "28Z7V-9jfTUn"
      }
    },
    {
      "cell_type": "markdown",
      "source": [
        "####Exercício 4:\n",
        "Uma pesquisa foi realizada para verificar a preferência de 100 pessoas por dois tipos de bebidas, A e B, em duas cidades diferentes, X e Y. A tabela de contingência a seguir mostra os resultados:\n",
        "\n",
        "![image.png](data:image/png;base64,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)\n",
        "\n",
        "Verifique se há uma relação significativa entre a cidade e a preferência pela bebida.\n",
        "\n"
      ],
      "metadata": {
        "id": "bGK7xgUifMFx"
      }
    },
    {
      "cell_type": "code",
      "source": [
        "'''\n",
        "Função: chi2_contingency(): Para testar a independência entre duas variáveis categóricas.\n",
        "'''\n",
        "#importar\n",
        "import numpy as np\n",
        "from scipy.stats import chi2_contingency\n",
        "# teste de hipotese\n",
        "# H0: Não há preferências pelas bebidas\n",
        "# H1: Há preferências\n",
        "\n",
        "# dados\n",
        "dados = [[30, 40],[20, 10]]\n",
        "\n",
        "\n",
        "\n",
        "# Teste\n",
        "estatistica, p_valor, grau_de_liberdade, matriz_frequencia = chi2_contingency(dados)\n",
        "\n",
        "print(f\"A Estatistica é {estatistica}\")\n",
        "print(f\"Valor p é {p_valor}\")\n"
      ],
      "metadata": {
        "colab": {
          "base_uri": "https://localhost:8080/"
        },
        "id": "pCVrSHGX4nmA",
        "outputId": "e722d7ef-91ac-48db-c991-843aba22d9f9"
      },
      "execution_count": null,
      "outputs": [
        {
          "output_type": "stream",
          "name": "stdout",
          "text": [
            "A Estatistica é 3.857142857142857\n",
            "Valor p é 0.04953461343562649\n"
          ]
        }
      ]
    },
    {
      "cell_type": "markdown",
      "source": [
        "##### Resposta\n",
        "\n",
        "O valor p (0,0495) é menor que o nível de significância estabelecido de 0.05. Sendo assim, há evidências para rejeitar a hipótese nula. Afirmando que há preferencia entre as bebidas."
      ],
      "metadata": {
        "id": "62zh3u0-ABPm"
      }
    },
    {
      "cell_type": "markdown",
      "source": [
        "####Exercício 5:\n",
        "Um pesquisador deseja testar se três diferentes tipos de fertilizantes têm um efeito significativo no crescimento de plantas. Os crescimentos das plantas (em cm) para cada fertilizante são dados abaixo:\n",
        "\n",
        "Fertilizante A: [20, 22, 19, 21, 20] Fertilizante B: [18, 20, 17, 19, 18] Fertilizante C: [25, 27, 26, 28, 26] Realize uma ANOVA de uma via para verificar se há uma diferença significativa entre os grupos.\n"
      ],
      "metadata": {
        "id": "aiB2Izj34lSg"
      }
    },
    {
      "cell_type": "code",
      "source": [
        "#importar\n",
        "from scipy.stats import f_oneway\n",
        "\n",
        "#Dados\n",
        "fertA = [20, 22, 19, 21, 20]\n",
        "fertB = [18, 20, 17, 19, 18]\n",
        "fertC = [25, 27, 26, 28, 26]\n",
        "\n",
        "#teste hipoteses\n",
        "#H0: O crescimento das plantas são iguais independete do fertilizante\n",
        "#H1: Há diferença no crescimento das plantas\n",
        "\n",
        "# teste\n",
        "anova, p_valor = f_oneway(fertA, fertB, fertC)\n",
        "\n",
        "print(f\"ANOVA:{anova}\")\n",
        "print(f\"p valor: {p_valor}\")\n"
      ],
      "metadata": {
        "colab": {
          "base_uri": "https://localhost:8080/"
        },
        "id": "goUlhTvoA4zU",
        "outputId": "b4bdac51-aa94-49eb-8922-3456f217d7ef"
      },
      "execution_count": null,
      "outputs": [
        {
          "output_type": "stream",
          "name": "stdout",
          "text": [
            "ANOVA:66.66666666666657\n",
            "p valor: 3.168809044640198e-07\n"
          ]
        }
      ]
    },
    {
      "cell_type": "markdown",
      "source": [
        "#####Resposta\n",
        "\n",
        "O valor p (3.168809044640198e-07) é menor que o nível de significância estabelecido de 0.05. Sendo assim, há evidências para rejeitar a hipótese nula. Logo há diferença entre o crescimento das plantas."
      ],
      "metadata": {
        "id": "B9Ya8kR0FZm6"
      }
    }
  ]
}