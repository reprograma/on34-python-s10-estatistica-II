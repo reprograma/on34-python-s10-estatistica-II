{
  "nbformat": 4,
  "nbformat_minor": 0,
  "metadata": {
    "colab": {
      "provenance": [],
      "toc_visible": true,
      "authorship_tag": "ABX9TyMY+v2U0CF+wsBjdmp5a/Gh",
      "include_colab_link": true
    },
    "kernelspec": {
      "name": "python3",
      "display_name": "Python 3"
    },
    "language_info": {
      "name": "python"
    }
  },
  "cells": [
    {
      "cell_type": "markdown",
      "metadata": {
        "id": "view-in-github",
        "colab_type": "text"
      },
      "source": [
        "<a href=\"https://colab.research.google.com/github/Savarezi/on34-python-s10-estatistica-II/blob/main/Exercicios_s10_de_casa_Patricia_.ipynb\" target=\"_parent\"><img src=\"https://colab.research.google.com/assets/colab-badge.svg\" alt=\"Open In Colab\"/></a>"
      ]
    },
    {
      "cell_type": "markdown",
      "source": [
        "# Excercicos de Casa\n",
        "\n",
        "# TESTE DE HIPÓTESE\n",
        "\n",
        "*RESPONDA O EXERCÍCIOS*\n",
        "\n",
        "\n"
      ],
      "metadata": {
        "id": "SXwH5Y0MvZq8"
      }
    },
    {
      "cell_type": "markdown",
      "source": [
        "Exercício 1:\n",
        "Um nutricionista quer testar se a ingestão diária média de calorias de um grupo de 30 pessoas é diferente de 2000 calorias. Os dados das calorias ingeridas são fornecidos abaixo. Realize o teste de hipóteses usando um nível de significância de 0,05.\n",
        "\n",
        "* Dados: [1900, 2100, 2050, 1980, 1950, 2100, 2000, 2150, 2200, 1850, 1990, 1950, 2050, 2080, 2100, 1900, 1950, 2050, 2150, 2000, 2200, 1900, 2100, 2000, 2150, 1850, 1990, 1950, 2050, 2080]"
      ],
      "metadata": {
        "id": "duph6XAdwGxp"
      }
    },
    {
      "cell_type": "code",
      "source": [
        "!pip install scip"
      ],
      "metadata": {
        "id": "sMOmrJa2zXWY"
      },
      "execution_count": null,
      "outputs": []
    },
    {
      "cell_type": "code",
      "source": [
        "\n",
        "from scipy.stats import ttest_1samp\n",
        "\n",
        "# Dados fornecidos\n",
        "ingestao_calorias = [1900, 2100, 2050, 1980, 1950, 2100, 2000, 2150, 2200, 1850,\n",
        "                     1990, 1950, 2050, 2080, 2100, 1900, 1950, 2050, 2150, 2000,\n",
        "                     2200, 1900, 2100, 2000, 2150, 1850, 1990, 1950, 2050, 2080]\n",
        "\n",
        "#TESTE DE HIPÓTESE\n",
        "#H0: A média é igual a 2000\n",
        "#H1: A média é diferente de 2000\n",
        "\n",
        "t_estatistico, p_valor = ttest_1samp (ingestao_calorias, 2000)\n",
        "\n",
        "\n",
        "print(\"Valor t_estatisco é:\", t_estatistico)\n",
        "print(\"Valor p_valor é:\", p_valor)\n",
        "\n",
        "\n",
        "#teste t estudant\n"
      ],
      "metadata": {
        "id": "xbkdEKFjwM5G"
      },
      "execution_count": null,
      "outputs": []
    },
    {
      "cell_type": "code",
      "source": [
        "#OUTRA FORMA DE CODIGO\n",
        "\n",
        "\n",
        "from scipy import stats\n",
        "\n",
        "# Dados fornecidos\n",
        "ingestao_calorias = [1900, 2100, 2050, 1980, 1950, 2100, 2000, 2150, 2200, 1850,\n",
        "                     1990, 1950, 2050, 2080, 2100, 1900, 1950, 2050, 2150, 2000,\n",
        "                     2200, 1900, 2100, 2000, 2150, 1850, 1990, 1950, 2050, 2080]\n",
        "\n",
        "# Hipótese nula (H0): A ingestão diária média é 2000 calorias.\n",
        "media_esperada = 2000\n",
        "\n",
        "# Realizando o teste t para uma amostra\n",
        "resultado_teste = stats.ttest_1samp(ingestao_calorias, media_esperada)\n",
        "\n",
        "# Obtendo os valores do teste t\n",
        "valor_t_statistico = resultado_teste.statistic\n",
        "p_valor = resultado_teste.pvalue\n",
        "\n",
        "print(\"Valor t estatístico:\", valor_t_statistico)\n",
        "print(\"p-valor:\", p_valor)\n"
      ],
      "metadata": {
        "id": "n-aRbUmq1dhs"
      },
      "execution_count": null,
      "outputs": []
    },
    {
      "cell_type": "markdown",
      "source": [
        "Exercício 2:\n",
        "Um pesquisador deseja verificar se há uma diferença significativa entre as notas de alunos de duas turmas diferentes após um novo método de ensino. As notas das duas turmas são:\n",
        "\n",
        "*  Turma A: [85, 78, 90, 88, 76, 95, 89, 84]\n",
        "*  Turma B: [82, 75, 85, 80, 79, 88, 83, 77]\n",
        "\n",
        "Realize o teste de hipóteses para comparar as médias das duas turmas usando um nível de significância de 0,05."
      ],
      "metadata": {
        "id": "umWwKDp52Kyo"
      }
    },
    {
      "cell_type": "code",
      "source": [
        "from scipy import stats\n",
        "\n",
        "# Dados das notas das duas turmas\n",
        "notas_turma_A = [85, 78, 90, 88, 76, 95, 89, 84]\n",
        "notas_turma_B = [82, 75, 85, 80, 79, 88, 83, 77]\n",
        "\n",
        "# Realizando o teste t para duas amostras independentes\n",
        "resultado_teste_duas_amostras = stats.ttest_ind(notas_turma_A, notas_turma_B)\n",
        "\n",
        "# Obtendo os valores do teste t\n",
        "valor_t_statistico = resultado_teste_duas_amostras.statistic\n",
        "p_valor = resultado_teste_duas_amostras.pvalue\n",
        "\n",
        "print(\"Valor t estatístico é:\", valor_t_statistico)\n",
        "print(\"p-valor é:\", p_valor)\n",
        "\n"
      ],
      "metadata": {
        "id": "SK83flXp2qNS"
      },
      "execution_count": null,
      "outputs": []
    },
    {
      "cell_type": "markdown",
      "source": [
        "Exercício 3:\n",
        "Uma empresa testou a eficácia de um novo software em dois períodos de tempo. Os tempos (em minutos) para concluir uma tarefa antes e depois do uso do software são registrados abaixo. Determine se houve uma melhoria significativa no tempo de conclusão da tarefa.\n",
        "\n",
        "* Antes: [30, 28, 35, 33, 40, 29, 32, 36]   \n",
        "* Depois: [25, 22, 30, 28, 35, 27, 30, 31]"
      ],
      "metadata": {
        "id": "NxseZIeS0nqW"
      }
    },
    {
      "cell_type": "code",
      "source": [
        "import numpy as np\n",
        "from scipy import stats\n",
        "\n",
        "# Dados\n",
        "antes = np.array([30, 28, 35, 33, 40, 29, 32, 36])\n",
        "depois = np.array([25, 22, 30, 28, 35, 27, 30, 31])\n",
        "\n",
        "# Cálculo do teste t pareado\n",
        "t_statistic, p_value = stats.ttest_rel(antes, depois)\n",
        "\n",
        "print(f\"Estatística t: {t_statistic:.4f}\")\n",
        "print(f\"Valor p: {p_value:.4f}\")\n",
        "\n",
        "# Interpretação\n",
        "alpha = 0.05\n",
        "if p_value < alpha:\n",
        "    print(\"Há uma melhoria significativa no tempo de conclusão da tarefa.\")\n",
        "else:\n",
        "    print(\"Não há uma melhoria significativa no tempo de conclusão da tarefa.\")\n",
        "\n"
      ],
      "metadata": {
        "id": "RwB4xoWQ1IYk"
      },
      "execution_count": null,
      "outputs": []
    },
    {
      "cell_type": "markdown",
      "source": [
        "Exercício 4:\n",
        "Uma pesquisa foi realizada para verificar a preferência de 100 pessoas por dois tipos de bebidas, A e B, em duas cidades diferentes, X e Y. A tabela de contingência a seguir mostra os resultados:\n",
        "\n",
        "Cidade X Cidade Y Bebida A 30 40 Bebida B 20 10\n",
        "\n",
        "Verifique se há uma relação significativa entre a cidade e a preferência pela bebida."
      ],
      "metadata": {
        "id": "eytsW6jq2gy1"
      }
    },
    {
      "cell_type": "code",
      "source": [
        "import numpy as np\n",
        "from scipy.stats import chi2_contingency\n",
        "\n",
        "# Tabela de contingência\n",
        "tabela = np.array([[30, 40],  # Bebida A\n",
        "                   [20, 10]])  # Bebida B\n",
        "\n",
        "# Realiza o teste qui-quadrado\n",
        "estatistica, p_valor, _, _ = chi2_contingency(tabela)\n",
        "\n",
        "print(f\"Estatística do teste qui-quadrado: {estatistica:.4f}\")\n",
        "print(f\"Valor p: {p_valor:.4f}\")\n",
        "\n",
        "# Interpretação\n",
        "alpha = 0.05\n",
        "if p_valor < alpha:\n",
        "    print(\"Há uma relação significativa entre a cidade e a preferência pela bebida.\")\n",
        "else:\n",
        "    print(\"Não há uma relação significativa entre a cidade e a preferência pela bebida.\")\n"
      ],
      "metadata": {
        "id": "ZjZzFVKA3Jai"
      },
      "execution_count": null,
      "outputs": []
    },
    {
      "cell_type": "markdown",
      "source": [],
      "metadata": {
        "id": "iY8RF2yV3JAw"
      }
    },
    {
      "cell_type": "markdown",
      "source": [
        "Exercício 5:\n",
        "Um pesquisador deseja testar se três diferentes tipos de fertilizantes têm um efeito significativo no crescimento de plantas. Os crescimentos das plantas (em cm) para cada fertilizante são dados abaixo:\n",
        "\n",
        "* Fertilizante A: [20, 22, 19, 21, 20]\n",
        "\n",
        "* Fertilizante B: [18, 20, 17, 19, 18]\n",
        "\n",
        "* Fertilizante C: [25, 27, 26, 28, 26]\n",
        "\n",
        " Realize uma ANOVA de uma via para verificar se há uma diferença significativa entre os grupos."
      ],
      "metadata": {
        "id": "VK7bBKaq3bWi"
      }
    },
    {
      "cell_type": "code",
      "source": [
        "import numpy as np\n",
        "from scipy.stats import f_oneway\n",
        "\n",
        "# Dados dos crescimentos das plantas\n",
        "fertilizante_a = np.array([20, 22, 19, 21, 20])\n",
        "fertilizante_b = np.array([18, 20, 17, 19, 18])\n",
        "fertilizante_c = np.array([25, 27, 26, 28, 26])\n",
        "\n",
        "# Realiza a ANOVA de uma via\n",
        "estatistica, p_valor = f_oneway(fertilizante_a, fertilizante_b, fertilizante_c)\n",
        "\n",
        "# Exibir resultados\n",
        "print(f\"Estatística F: {estatistica:.4f}\")\n",
        "print(f\"Valor p: {p_valor:.4f}\")\n",
        "\n",
        "# Interpretação\n",
        "alpha = 0.05\n",
        "if p_valor < alpha:\n",
        "    print(\"Há uma diferença significativa entre os tipos de fertilizantes.\")\n",
        "else:\n",
        "    print(\"Não há uma diferença significativa entre os tipos de fertilizantes.\")\n"
      ],
      "metadata": {
        "id": "mB4Nr-uW3sxV"
      },
      "execution_count": null,
      "outputs": []
    },
    {
      "cell_type": "markdown",
      "source": [
        "# EXERCÍCIOS EXTRAS:\n"
      ],
      "metadata": {
        "id": "UcTmjqsT57uI"
      }
    },
    {
      "cell_type": "markdown",
      "source": [
        "Exercício 1:\n",
        "Um estudo está sendo realizado para comparar o efeito de três métodos diferentes de estudo na performance dos alunos em um exame. As pontuações dos alunos são registradas para cada método:\n",
        "\n",
        "*  Método A: [85, 87, 90, 86, 88]\n",
        "\n",
        "*  Método B: [80, 82, 78, 81, 79]\n",
        "\n",
        "*  Método C: [92, 91, 93, 89, 94]\n",
        "\n",
        "   Use ANOVA de uma via para determinar se existe uma diferença significativa nas pontuações dos alunos entre os três métodos."
      ],
      "metadata": {
        "id": "Au7Rb2KJ6Hmj"
      }
    },
    {
      "cell_type": "code",
      "source": [
        "from scipy.stats import f_oneway\n",
        "\n",
        "\n",
        "\n",
        "metodo_A=np.array([85, 87, 90, 86, 88])\n",
        "metodo_B=np.array([80, 82, 78, 81, 79])\n",
        "metodo_C=np.array([92, 91, 93, 89, 94])\n",
        "\n",
        "estatisticas, p_valor = f_oneway(metodo_A, metodo_B, metodo_C)\n",
        "\n",
        "print(f\"Estatísticas F: {estatisticas:.4f}\")\n",
        "print(f\"Valor p: {p_valor:.4f}\")\n",
        "\n",
        "alpha = 0.05\n",
        "if p_valor < alpha:\n",
        "    print(\"Há uma diferença significativa nas pontuações dos alunos entre os métodos.\")\n",
        "else:\n",
        "    print(\"Não há uma diferença significativa nas pontuações dos alunos entre os métodos.\")"
      ],
      "metadata": {
        "id": "NP4MltIF6d5b"
      },
      "execution_count": null,
      "outputs": []
    },
    {
      "cell_type": "markdown",
      "source": [
        "Exercício 2:\n",
        "\n",
        "Uma empresa deseja realizar uma pesquisa de satisfação com seus clientes. A população de clientes é dividida em três categorias: Regular, Premium e VIP. A empresa quer garantir que cada categoria seja representada proporcionalmente na amostra. A população total é de 10.000 clientes, sendo 5.000 regulares, 3.000 premium, e 2.000 VIP. Se a amostra total deve ser de 500 clientes, quantos clientes de cada categoria devem ser incluídos na amostra?"
      ],
      "metadata": {
        "id": "qG6xhHox8QU5"
      }
    },
    {
      "cell_type": "code",
      "source": [
        "# Dados\n",
        "dados = {\n",
        "    'total_populacao': 10000,\n",
        "    'clientes': {\n",
        "        'Regular': 5000,\n",
        "        'Premium': 3000,\n",
        "        'VIP': 2000\n",
        "    },\n",
        "    'tamanho_amostra': 500\n",
        "}\n",
        "\n",
        "# Calcular proporções e número de clientes na amostra\n",
        "amostra = {}\n",
        "for categoria, numero_clientes in dados['clientes'].items():\n",
        "    proporcao = numero_clientes / dados['total_populacao']\n",
        "    amostra[categoria] = proporcao * dados['tamanho_amostra']\n",
        "\n",
        "# Exibir resultados\n",
        "for categoria, numero_amostra in amostra.items():\n",
        "    print(f\"Número de clientes {categoria} na amostra: {round(numero_amostra)}\")\n"
      ],
      "metadata": {
        "id": "e80t610V8UpF"
      },
      "execution_count": null,
      "outputs": []
    },
    {
      "cell_type": "markdown",
      "source": [
        "Exercício 3:\n",
        "Uma empresa registrou o tempo (em horas) que seus funcionários gastam em atividades não relacionadas ao trabalho durante uma semana.\n",
        "\n",
        " Os tempos registrados foram: [1.5, 2.0, 1.0, 2.5, 3.0, 2.0, 1.5, 2.5, 3.5, 4.0].\n",
        "\n",
        "  Calcule o desvio padrão desses tempos."
      ],
      "metadata": {
        "id": "zz4Jz8cS8n_O"
      }
    },
    {
      "cell_type": "code",
      "source": [
        "import math\n",
        "registro=[1.5, 2.0, 1.0, 2.5, 3.0, 2.0, 1.5, 2.5, 3.5, 4.0]\n",
        "\n",
        "#media\n",
        "\n",
        "media=sum(registro)/len(registro)\n",
        "print(f\"A média é:\",{media})\n",
        "\n",
        "#variancia\n",
        "\n",
        "varianca=sum((x-media)**2 for x in registro)/len(registro)\n",
        "print(f\"A variância é:\",{varianca})\n",
        "\n",
        "#desvio padrão\n",
        "\n",
        "desvio_padrao=math.sqrt(varianca)\n",
        "print(f\"O desvio padrão é:\",{desvio_padrao})\n"
      ],
      "metadata": {
        "id": "S-DTZBbI80R3"
      },
      "execution_count": null,
      "outputs": []
    },
    {
      "cell_type": "markdown",
      "source": [],
      "metadata": {
        "id": "pdRtqUAw7VdV"
      }
    },
    {
      "cell_type": "code",
      "source": [
        "\n"
      ],
      "metadata": {
        "id": "eOQF9zhSI0la"
      },
      "execution_count": null,
      "outputs": []
    }
  ]
}