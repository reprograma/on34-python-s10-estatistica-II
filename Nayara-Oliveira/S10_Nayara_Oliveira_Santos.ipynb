{
  "nbformat": 4,
  "nbformat_minor": 0,
  "metadata": {
    "colab": {
      "provenance": []
    },
    "kernelspec": {
      "name": "python3",
      "display_name": "Python 3"
    },
    "language_info": {
      "name": "python"
    }
  },
  "cells": [
    {
      "cell_type": "markdown",
      "source": [
        "# Exercício 1:\n",
        "Um nutricionista quer testar se a ingestão diária média de calorias de um grupo de 30 pessoas é diferente de 2000 calorias. Os dados das calorias ingeridas são fornecidos abaixo. Realize o teste de hipóteses usando um nível de significância de 0,05.\n",
        "\n",
        "Dados: [1900, 2100, 2050, 1980, 1950, 2100, 2000, 2150, 2200, 1850, 1990, 1950, 2050, 2080, 2100, 1900, 1950, 2050, 2150, 2000, 2200, 1900, 2100, 2000, 2150, 1850, 1990, 1950, 2050, 2080]"
      ],
      "metadata": {
        "id": "xH-QVQVpuMVr"
      }
    },
    {
      "cell_type": "code",
      "source": [
        "!pip install scipy"
      ],
      "metadata": {
        "colab": {
          "base_uri": "https://localhost:8080/"
        },
        "id": "qkO2V44WuOai",
        "outputId": "f2ffde05-7734-459a-ba23-a88b6a6ded15"
      },
      "execution_count": 2,
      "outputs": [
        {
          "output_type": "stream",
          "name": "stdout",
          "text": [
            "Requirement already satisfied: scipy in /usr/local/lib/python3.10/dist-packages (1.13.1)\n",
            "Requirement already satisfied: numpy<2.3,>=1.22.4 in /usr/local/lib/python3.10/dist-packages (from scipy) (1.26.4)\n"
          ]
        }
      ]
    },
    {
      "cell_type": "markdown",
      "source": [
        "Quero comparar a média de um grupo com um valor de referência. Portanto, uso o teste t de Student.\n",
        "\n",
        "Teste: Compara a ingestão diária média de calorias do grupo com o valor de referência (2000 calorias)\n",
        "\n",
        "Hipótese Nula: ingestão diária média de calorias é igual a 2000 calorias\n",
        "\n",
        "Hipótese Alternativa: ingestão diária média de calorias é diferente de 2000 calorias"
      ],
      "metadata": {
        "id": "DqOX5U6IwIeP"
      }
    },
    {
      "cell_type": "code",
      "source": [
        "from scipy.stats import ttest_1samp\n",
        "dados = [1900, 2100, 2050, 1980, 1950, 2100, 2000, 2150, 2200, 1850, 1990, 1950, 2050, 2080, 2100, 1900, 1950, 2050, 2150, 2000, 2200, 1900, 2100, 2000, 2150, 1850, 1990, 1950, 2050, 2080]\n",
        "\n",
        "t_estatistico, p_valor = ttest_1samp(dados, 2000)\n",
        "\n",
        "print(f\"Estatística t: {t_estatistico}\")\n",
        "print(f\"Valor p: {p_valor}\")"
      ],
      "metadata": {
        "colab": {
          "base_uri": "https://localhost:8080/"
        },
        "id": "7arc7q0QwEpG",
        "outputId": "acc5bcc8-16cd-4c53-f2cb-28e3241cf1ff"
      },
      "execution_count": null,
      "outputs": [
        {
          "output_type": "stream",
          "name": "stdout",
          "text": [
            "Estatística t: 1.440678442696004\n",
            "Valor p: 0.16038600691798435\n"
          ]
        }
      ]
    },
    {
      "cell_type": "code",
      "source": [
        "confianca = 0.95\n",
        "\n",
        "significancia = 1 - confianca\n",
        "\n",
        "if p_valor < significancia:\n",
        "  print(\"Rejeitamos a Hipótese Nula\")\n",
        "else:\n",
        "  print(\"Aceitamos a Hipótese Nula\")\n"
      ],
      "metadata": {
        "colab": {
          "base_uri": "https://localhost:8080/"
        },
        "id": "DUqo74Uaxzdv",
        "outputId": "8a42bf4e-4d1d-4703-a3ab-12bb72583a40"
      },
      "execution_count": null,
      "outputs": [
        {
          "output_type": "stream",
          "name": "stdout",
          "text": [
            "Aceitamos a Hipótese Nula\n"
          ]
        }
      ]
    },
    {
      "cell_type": "markdown",
      "source": [
        "# Exercício 2:\n",
        "Um pesquisador deseja verificar se há uma diferença significativa entre as notas de alunos de duas turmas diferentes após um novo método de ensino. As notas das duas turmas são:\n",
        "\n",
        "Turma A: [85, 78, 90, 88, 76, 95, 89, 84] Turma B: [82, 75, 85, 80, 79, 88, 83, 77]\n",
        "\n",
        "Realize o teste de hipóteses para comparar as médias das duas turmas usando um nível de significância de 0,05."
      ],
      "metadata": {
        "id": "dzGVW4OMyA8B"
      }
    },
    {
      "cell_type": "markdown",
      "source": [
        "Teste: comparar nota média de dois grupos independentes. Assim, uso o teste t de Student para amostras independentes\n",
        "\n",
        "Hipótese Nula: médias de notas de cada turma são iguais\n",
        "\n",
        "Hipótese Alternativa: médias de notas de cada turma são diferentes"
      ],
      "metadata": {
        "id": "9eOD7WhjzD5a"
      }
    },
    {
      "cell_type": "code",
      "source": [
        "from scipy.stats import ttest_ind\n",
        "grupo_a = [85, 78, 90, 88, 76, 95, 89, 84]\n",
        "grupo_b = [82, 75, 85, 80, 79, 88, 83, 77]\n",
        "\n",
        "estatistica, p_valor = ttest_ind(grupo_a, grupo_b)\n",
        "print(f\"Estatística t: {estatistica}\")\n",
        "print(f\"Valor p: {p_valor}\")\n",
        "\n",
        "confianca = 0.95\n",
        "\n",
        "significancia = 1 - confianca\n",
        "\n",
        "if p_valor < significancia:\n",
        "  print(\"Rejeitamos a Hipótese Nula\")\n",
        "else:\n",
        "  print(\"Aceitamos a Hipótese Nula\")"
      ],
      "metadata": {
        "colab": {
          "base_uri": "https://localhost:8080/"
        },
        "id": "nL30B4jMysKh",
        "outputId": "4746ec20-9bcc-4467-fb6f-0b30aa691265"
      },
      "execution_count": null,
      "outputs": [
        {
          "output_type": "stream",
          "name": "stdout",
          "text": [
            "Estatística t: 1.6738367490980877\n",
            "Valor p: 0.11634870792349129\n",
            "Aceitamos a Hipótese Nula\n"
          ]
        }
      ]
    },
    {
      "cell_type": "markdown",
      "source": [
        "# Exercício 3:\n",
        "Uma empresa testou a eficácia de um novo software em dois períodos de tempo. Os tempos (em minutos) para concluir uma tarefa antes e depois do uso do software são registrados abaixo. Determine se houve uma melhoria significativa no tempo de conclusão da tarefa.\n",
        "\n",
        "Antes: [30, 28, 35, 33, 40, 29, 32, 36] Depois: [25, 22, 30, 28, 35, 27, 30, 31]"
      ],
      "metadata": {
        "id": "RHsPF_t31Y7-"
      }
    },
    {
      "cell_type": "markdown",
      "source": [
        "Teste: comparar o tempo médio para conclusão de uma tarefa de uma mesma amostra antes e depois do uso do software. Assim, uso o teste t de Student para grupos dependentes\n",
        "\n",
        "Hipótese Nula: diferença entre o tempo médio para conclusão da tarefa antes e depois do uso do software não é significativa, ou seja, software não é eficaz\n",
        "\n",
        "Hipótese Alternativa: diferença entre o tempo médio para conclusão da tarefa antes e depois do uso do software é significativa, ou seja, software é eficaz"
      ],
      "metadata": {
        "id": "72DLfcSd1d_t"
      }
    },
    {
      "cell_type": "code",
      "source": [
        "from scipy.stats import ttest_rel\n",
        "tempo_antes = [30, 28, 35, 33, 40, 29, 32, 36]\n",
        "tempo_depois = [25, 22, 30, 28, 35, 27, 30, 31]\n",
        "\n",
        "estatistica, p_valor = ttest_rel(tempo_antes, tempo_depois)\n",
        "print(f\"Estatística t: {estatistica}\")\n",
        "print(f\"Valor p: {p_valor}\")\n",
        "\n",
        "confianca = 0.95\n",
        "significancia = 1 - confianca\n",
        "if p_valor < significancia:\n",
        "  print(\"Rejeitamos a Hipótese Nula\")\n",
        "else:\n",
        "  print(\"Aceitamos a Hipótese Nula\")"
      ],
      "metadata": {
        "colab": {
          "base_uri": "https://localhost:8080/"
        },
        "id": "jXXbb7Z32Okz",
        "outputId": "70d4e99a-af2c-4c6e-d43a-0b166832f75e"
      },
      "execution_count": null,
      "outputs": [
        {
          "output_type": "stream",
          "name": "stdout",
          "text": [
            "Estatística t: 8.217036268592837\n",
            "Valor p: 7.679851175528595e-05\n",
            "Rejeitamos a Hipótese Nula\n"
          ]
        }
      ]
    },
    {
      "cell_type": "markdown",
      "source": [
        "# Exercício 4:\n",
        "Uma pesquisa foi realizada para verificar a preferência de 100 pessoas por dois tipos de bebidas, A e B, em duas cidades diferentes, X e Y. A tabela de contingência a seguir mostra os resultados:\n",
        "\n",
        "Cidade X Cidade Y Bebida A 30 40 Bebida B 20 10\n",
        "\n",
        "Verifique se há uma relação significativa entre a cidade e a preferência pela bebida."
      ],
      "metadata": {
        "id": "aD0plv-b4MM_"
      }
    },
    {
      "cell_type": "markdown",
      "source": [
        "Teste: Verificar se há associação entre a cidade e a preferência por uma determinada bebida. Assim, uso o teste Qui-Quadrado, que verifica a relação entre duas variáveis categóricas\n",
        "\n",
        "Hipótese Nula: Não há relação entre cidade e preferência pela bebida\n",
        "\n",
        "Hipótese Alternativa: Há uma relação entre a cidade e preferência pela bebida"
      ],
      "metadata": {
        "id": "PqOV5UAs74AT"
      }
    },
    {
      "cell_type": "code",
      "source": [
        "import numpy as np\n",
        "from scipy.stats import chi2_contingency\n",
        "dados = np.array([[30, 40],[20, 10]])\n",
        "\n",
        "estatistica, p_valor, grau_de_liberdade, matriz_frequencia = chi2_contingency(dados)\n",
        "\n",
        "print(f\"Estatistica: {estatistica}\")\n",
        "print(f\"Valor p: {p_valor}\")\n",
        "\n",
        "confianca = 0.95\n",
        "significancia = 1 - confianca\n",
        "if p_valor < significancia:\n",
        "  print(\"Rejeitamos a Hipótese Nula\")\n",
        "else:\n",
        "  print(\"Aceitamos a Hipótese Nula\")"
      ],
      "metadata": {
        "colab": {
          "base_uri": "https://localhost:8080/"
        },
        "id": "8kpJPCRC7eCr",
        "outputId": "0e63b584-ca15-4e8c-a32a-33f0c4a166c2"
      },
      "execution_count": 3,
      "outputs": [
        {
          "output_type": "stream",
          "name": "stdout",
          "text": [
            "Estatistica: 3.857142857142857\n",
            "Valor p: 0.04953461343562649\n",
            "Rejeitamos a Hipótese Nula\n"
          ]
        }
      ]
    },
    {
      "cell_type": "markdown",
      "source": [
        "# Exercício 5:\n",
        "Um pesquisador deseja testar se três diferentes tipos de fertilizantes têm um efeito significativo no crescimento de plantas. Os crescimentos das plantas (em cm) para cada fertilizante são dados abaixo:\n",
        "\n",
        "Fertilizante A: [20, 22, 19, 21, 20] Fertilizante B: [18, 20, 17, 19, 18] Fertilizante C: [25, 27, 26, 28, 26] Realize uma ANOVA de uma via para verificar se há uma diferença significativa entre os grupos."
      ],
      "metadata": {
        "id": "yaJzGwMj8EiV"
      }
    },
    {
      "cell_type": "markdown",
      "source": [
        "Teste: comparar a média de altura das plantas entre três grupos independentes. Assim, uso o teste ANOVA\n",
        "\n",
        "Hipótese Nula: médias de alturas são iguais em todos os grupos, ou seja, diferença entre os tipos de fertilizantes não é significativa e os três tipos de fertilizantes não têm um efeito significativo no crescimento de plantas\n",
        "\n",
        "Hipótese Alternativa: pelo menos uma média de altura é diferente das outras, ou seja, pelo menos um dos tipos de fertilizantes têm um efeito significativo no crescimento de plantas"
      ],
      "metadata": {
        "id": "LJVC72668Gf6"
      }
    },
    {
      "cell_type": "code",
      "source": [
        "from scipy.stats import f_oneway\n",
        "\n",
        "fertilizante_a = [20, 22, 19, 21, 20]\n",
        "fertilizante_b = [18, 20, 17, 19, 18]\n",
        "fertilizante_c = [25, 27, 26, 28, 26]\n",
        "\n",
        "estatistica, p_valor = f_oneway(fertilizante_a, fertilizante_b, fertilizante_c)\n",
        "print(f\"Estatística: {estatistica}\")\n",
        "print(f\"Valor p: {p_valor}\")\n",
        "\n",
        "confianca = 0.95\n",
        "significancia = 1 - confianca\n",
        "if p_valor < significancia:\n",
        "  print(\"Rejeitamos a Hipótese Nula\")\n",
        "else:\n",
        "  print(\"Aceitamos a Hipótese Nula\")"
      ],
      "metadata": {
        "colab": {
          "base_uri": "https://localhost:8080/"
        },
        "id": "Ibr7baQK9ri-",
        "outputId": "e23192bb-dba6-4a28-855f-5234cd94ae55"
      },
      "execution_count": 1,
      "outputs": [
        {
          "output_type": "stream",
          "name": "stdout",
          "text": [
            "Estatística: 66.66666666666657\n",
            "Valor p: 3.168809044640198e-07\n",
            "Rejeitamos a Hipótese Nula\n"
          ]
        }
      ]
    }
  ]
}